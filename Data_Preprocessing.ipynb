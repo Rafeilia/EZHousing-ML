{
  "nbformat": 4,
  "nbformat_minor": 0,
  "metadata": {
    "colab": {
      "name": "Data_Preprocessing.ipynb",
      "provenance": [],
      "collapsed_sections": [],
      "toc_visible": true
    },
    "kernelspec": {
      "name": "python3",
      "display_name": "Python 3"
    },
    "language_info": {
      "name": "python"
    }
  },
  "cells": [
    {
      "cell_type": "markdown",
      "source": [
        "# Import Library dan DataSet"
      ],
      "metadata": {
        "id": "K5Evc4DBffwr"
      }
    },
    {
      "cell_type": "code",
      "source": [
        "import pandas as pd\n",
        "import numpy as np\n",
        "import tensorflow as tf\n",
        "from tensorflow import keras\n",
        "from tensorflow.keras import layers\n",
        "from tensorflow.keras.models import load_model\n",
        "from tensorflow.keras.optimizers import Adam\n",
        "from google.colab import files\n",
        "import matplotlib.pyplot as plt\n",
        "import seaborn as sns\n",
        "dataset = pd.read_csv(\"/content/DATARUMAH.csv\")"
      ],
      "metadata": {
        "id": "FGSZOWlwYucc"
      },
      "execution_count": null,
      "outputs": []
    },
    {
      "cell_type": "markdown",
      "source": [
        "# Data Pre-Processing"
      ],
      "metadata": {
        "id": "Kl5OjYGHfo1o"
      }
    },
    {
      "cell_type": "code",
      "source": [
        "print('Shape dataset:', dataset.shape)\n",
        "print('\\nLima data teratas:\\n', dataset.head())\n",
        "print('\\nInformasi dataset:')\n",
        "print(dataset.info())\n",
        "print('\\nStatistik deskriptif:\\n', dataset.describe())"
      ],
      "metadata": {
        "colab": {
          "base_uri": "https://localhost:8080/"
        },
        "id": "GfQsAC9vgX7q",
        "outputId": "ede0a489-cad0-4b94-f2d9-5ce599d04793"
      },
      "execution_count": null,
      "outputs": [
        {
          "output_type": "stream",
          "name": "stdout",
          "text": [
            "Shape dataset: (1011, 6)\n",
            "\n",
            "Lima data teratas:\n",
            "           HARGA     LB     LT   KT   KM  GRS\n",
            "0  3.800000e+09  220.0  220.0  3.0  3.0  0.0\n",
            "1  4.600000e+09  180.0  137.0  4.0  3.0  2.0\n",
            "2  3.000000e+09  267.0  250.0  4.0  4.0  4.0\n",
            "3  4.300000e+08   40.0   25.0  2.0  2.0  0.0\n",
            "4  9.000000e+09  400.0  355.0  6.0  5.0  3.0\n",
            "\n",
            "Informasi dataset:\n",
            "<class 'pandas.core.frame.DataFrame'>\n",
            "RangeIndex: 1011 entries, 0 to 1010\n",
            "Data columns (total 6 columns):\n",
            " #   Column  Non-Null Count  Dtype  \n",
            "---  ------  --------------  -----  \n",
            " 0   HARGA   1010 non-null   float64\n",
            " 1   LB      1010 non-null   float64\n",
            " 2   LT      1010 non-null   float64\n",
            " 3   KT      1010 non-null   float64\n",
            " 4   KM      1010 non-null   float64\n",
            " 5   GRS     1010 non-null   float64\n",
            "dtypes: float64(6)\n",
            "memory usage: 47.5 KB\n",
            "None\n",
            "\n",
            "Statistik deskriptif:\n",
            "               HARGA           LB           LT           KT           KM  \\\n",
            "count  1.010000e+03  1010.000000  1010.000000  1010.000000  1010.000000   \n",
            "mean   7.628987e+09   276.539604   237.432673     4.668317     3.607921   \n",
            "std    7.340946e+09   177.864557   179.957604     1.572776     1.420066   \n",
            "min    4.300000e+08    40.000000    25.000000     2.000000     1.000000   \n",
            "25%    3.262500e+09   150.000000   130.000000     4.000000     3.000000   \n",
            "50%    5.000000e+09   216.500000   165.000000     4.000000     3.000000   \n",
            "75%    9.000000e+09   350.000000   290.000000     5.000000     4.000000   \n",
            "max    6.500000e+10  1126.000000  1400.000000    10.000000    10.000000   \n",
            "\n",
            "               GRS  \n",
            "count  1010.000000  \n",
            "mean      1.920792  \n",
            "std       1.510998  \n",
            "min       0.000000  \n",
            "25%       1.000000  \n",
            "50%       2.000000  \n",
            "75%       2.000000  \n",
            "max      10.000000  \n"
          ]
        }
      ]
    },
    {
      "cell_type": "code",
      "source": [
        "print('\\nLima data teratas:\\n', dataset.head())"
      ],
      "metadata": {
        "colab": {
          "base_uri": "https://localhost:8080/"
        },
        "id": "0o0NQFAKe4pW",
        "outputId": "d83283f1-eeec-45e4-cd78-f5c1c5adea45"
      },
      "execution_count": null,
      "outputs": [
        {
          "output_type": "stream",
          "name": "stdout",
          "text": [
            "\n",
            "Lima data teratas:\n",
            "           HARGA     LB     LT   KT   KM  GRS\n",
            "0  3.800000e+09  220.0  220.0  3.0  3.0  0.0\n",
            "1  4.600000e+09  180.0  137.0  4.0  3.0  2.0\n",
            "2  3.000000e+09  267.0  250.0  4.0  4.0  4.0\n",
            "3  4.300000e+08   40.0   25.0  2.0  2.0  0.0\n",
            "4  9.000000e+09  400.0  355.0  6.0  5.0  3.0\n"
          ]
        }
      ]
    },
    {
      "cell_type": "code",
      "source": [
        "#Melihat Korelasi Antar Kolom\n",
        "dataset_corr = dataset.corr()\n",
        "print('Korelasi dataset:\\n', dataset.corr())"
      ],
      "metadata": {
        "colab": {
          "base_uri": "https://localhost:8080/"
        },
        "id": "EjT4EV92hmL0",
        "outputId": "f768d9a5-6c6e-4373-84ab-887e8aef7d48"
      },
      "execution_count": null,
      "outputs": [
        {
          "output_type": "stream",
          "name": "stdout",
          "text": [
            "Korelasi dataset:\n",
            "           HARGA        LB        LT        KT        KM       GRS\n",
            "HARGA  1.000000  0.747083  0.809617  0.323320  0.404770  0.484892\n",
            "LB     0.747083  1.000000  0.740341  0.443578  0.529889  0.492331\n",
            "LT     0.809617  0.740341  1.000000  0.425484  0.388504  0.484394\n",
            "KT     0.323320  0.443578  0.425484  1.000000  0.669457  0.280445\n",
            "KM     0.404770  0.529889  0.388504  0.669457  1.000000  0.345323\n",
            "GRS    0.484892  0.492331  0.484394  0.280445  0.345323  1.000000\n"
          ]
        }
      ]
    },
    {
      "cell_type": "code",
      "source": [
        "color = sns.light_palette(\"green\")\n",
        "sns.heatmap(dataset_corr, annot=True, cmap=color)"
      ],
      "metadata": {
        "colab": {
          "base_uri": "https://localhost:8080/",
          "height": 286
        },
        "id": "Ye0Lf5U9eknf",
        "outputId": "6f217eda-7a38-463f-e02e-69c74c8e9d58"
      },
      "execution_count": null,
      "outputs": [
        {
          "output_type": "execute_result",
          "data": {
            "text/plain": [
              "<matplotlib.axes._subplots.AxesSubplot at 0x7ff5a5c5cfd0>"
            ]
          },
          "metadata": {},
          "execution_count": 5
        },
        {
          "output_type": "display_data",
          "data": {
            "text/plain": [
              "<Figure size 432x288 with 2 Axes>"
            ],
            "image/png": "[encoded data removed]"
          },
          "metadata": {
            "needs_background": "light"
          }
        }
      ]
    },
    {
      "cell_type": "code",
      "source": [
        "#checking missing value antar kolom  \n",
        "print(dataset.isnull().sum())\n",
        "#Menghitung total missing value\n",
        "print(dataset.isnull().sum().sum())"
      ],
      "metadata": {
        "colab": {
          "base_uri": "https://localhost:8080/"
        },
        "id": "kG0bpGlPiGqx",
        "outputId": "45f7409b-37ad-4ae7-8333-d2bd93f60222"
      },
      "execution_count": null,
      "outputs": [
        {
          "output_type": "stream",
          "name": "stdout",
          "text": [
            "HARGA    1\n",
            "LB       1\n",
            "LT       1\n",
            "KT       1\n",
            "KM       1\n",
            "GRS      1\n",
            "dtype: int64\n",
            "6\n"
          ]
        }
      ]
    },
    {
      "cell_type": "code",
      "source": [
        "print(dataset.dropna())"
      ],
      "metadata": {
        "colab": {
          "base_uri": "https://localhost:8080/"
        },
        "id": "Pg-WkBTI7gu2",
        "outputId": "fae91a06-0520-4f96-c369-9c1260cb6f12"
      },
      "execution_count": null,
      "outputs": [
        {
          "output_type": "stream",
          "name": "stdout",
          "text": [
            "             HARGA     LB     LT    KT    KM  GRS\n",
            "0     3.800000e+09  220.0  220.0   3.0   3.0  0.0\n",
            "1     4.600000e+09  180.0  137.0   4.0   3.0  2.0\n",
            "2     3.000000e+09  267.0  250.0   4.0   4.0  4.0\n",
            "3     4.300000e+08   40.0   25.0   2.0   2.0  0.0\n",
            "4     9.000000e+09  400.0  355.0   6.0   5.0  3.0\n",
            "...            ...    ...    ...   ...   ...  ...\n",
            "1005  9.000000e+09  450.0  550.0  10.0  10.0  3.0\n",
            "1006  4.000000e+09  160.0  140.0   4.0   3.0  2.0\n",
            "1007  4.000000e+09  139.0  230.0   4.0   4.0  1.0\n",
            "1008  1.900000e+10  360.0  606.0   7.0   4.0  0.0\n",
            "1009  1.050000e+10  420.0  430.0   7.0   4.0  2.0\n",
            "\n",
            "[1010 rows x 6 columns]\n"
          ]
        }
      ]
    },
    {
      "cell_type": "code",
      "source": [
        "# Q1, Q3, dan IQR\n",
        "Q1 = dataset['HARGA'].quantile(0.25)\n",
        "Q3 = dataset['HARGA'].quantile(0.75)\n",
        "IQR = Q3 - Q1\n",
        "\n",
        "# Check ukuran (baris dan kolom) sebelum data yang outliers dibuang\n",
        "print('Shape awal: ', dataset.shape)\n",
        "\n",
        "# Menghapus outliers\n",
        "dataset = dataset[~((dataset['HARGA'] < (Q1 - 1.5 * IQR)) | (dataset['HARGA'] > (Q3 + 1.5 * IQR)))]\n",
        "\n",
        "# Check ukuran (baris dan kolom) setelah data yang outliers dibuang\n",
        "print('Shape akhir: ', dataset.shape)\n"
      ],
      "metadata": {
        "colab": {
          "base_uri": "https://localhost:8080/"
        },
        "id": "z59-xOF8oJ6u",
        "outputId": "998ccd90-2668-4640-bb90-7faa3c61014c"
      },
      "execution_count": null,
      "outputs": [
        {
          "output_type": "stream",
          "name": "stdout",
          "text": [
            "Shape awal:  (1011, 6)\n",
            "Shape akhir:  (917, 6)\n"
          ]
        }
      ]
    },
    {
      "cell_type": "code",
      "source": [
        "from google.colab import files\n"
      ],
      "metadata": {
        "id": "pL3uQ7EOMtD-"
      },
      "execution_count": null,
      "outputs": []
    },
    {
      "cell_type": "code",
      "source": [
        "dataset.to_csv('dataset_clean.csv')"
      ],
      "metadata": {
        "id": "hVfThffGNCN_"
      },
      "execution_count": null,
      "outputs": []
    }
  ]
}